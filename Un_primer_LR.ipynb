{
  "cells": [
    {
      "cell_type": "markdown",
      "metadata": {
        "colab_type": "text",
        "id": "view-in-github"
      },
      "source": [
        "<a href=\"https://colab.research.google.com/github/LCaravaggio/AnalisisPredictivo/blob/master/Kaggle/2023Q2/Un_primer_LR.ipynb\" target=\"_parent\"><img src=\"https://colab.research.google.com/assets/colab-badge.svg\" alt=\"Open In Colab\"/></a>"
      ]
    },
    {
      "cell_type": "code",
      "execution_count": 1,
      "metadata": {
        "id": "uK-5cdUyNiQ3"
      },
      "outputs": [],
      "source": [
        "import pandas as pd\n",
        "import matplotlib.pyplot as plt\n",
        "df_train=pd.read_csv('dataset/origen.csv')"
      ]
    },
    {
      "cell_type": "code",
      "execution_count": 2,
      "metadata": {
        "colab": {
          "base_uri": "https://localhost:8080/"
        },
        "id": "msD7pN_BNomw",
        "outputId": "363052f7-d351-4790-f0b5-e90789c9e25c"
      },
      "outputs": [
        {
          "data": {
            "text/plain": [
              "Index(['Unnamed: 0', 'averageRating', 'numVotes', 'titleType', 'isAdult',\n",
              "       'startYear', 'endYear', 'runtimeMinutes', 'genres_x', 'directors',\n",
              "       'writers', 'seasonNumber', 'episodeNumber', 'ordering', 'language',\n",
              "       'attributes', 'isOriginalTitle', 'adult', 'budget', 'genres_y',\n",
              "       'original_language', 'popularity', 'production_companies',\n",
              "       'production_countries', 'revenue', 'runtime', 'status', 'tagline',\n",
              "       'video'],\n",
              "      dtype='object')"
            ]
          },
          "execution_count": 2,
          "metadata": {},
          "output_type": "execute_result"
        }
      ],
      "source": [
        "df_train.columns"
      ]
    },
    {
      "cell_type": "code",
      "execution_count": 3,
      "metadata": {
        "id": "DP11tcaGOEfg"
      },
      "outputs": [],
      "source": [
        "df_val=pd.read_csv('dataset/testear.csv')"
      ]
    },
    {
      "cell_type": "code",
      "execution_count": 4,
      "metadata": {
        "colab": {
          "base_uri": "https://localhost:8080/"
        },
        "id": "uRfvJaLeOOlg",
        "outputId": "772a3528-d157-46b2-9208-dfa0461fc6f1"
      },
      "outputs": [
        {
          "data": {
            "text/plain": [
              "(977541, 29)"
            ]
          },
          "execution_count": 4,
          "metadata": {},
          "output_type": "execute_result"
        }
      ],
      "source": [
        "df_train.shape"
      ]
    },
    {
      "cell_type": "code",
      "execution_count": 5,
      "metadata": {
        "colab": {
          "base_uri": "https://localhost:8080/"
        },
        "id": "gobvSHIpOIot",
        "outputId": "485a1de5-1f45-4c95-ffda-3d3e280d8855"
      },
      "outputs": [
        {
          "data": {
            "text/plain": [
              "(244386, 28)"
            ]
          },
          "execution_count": 5,
          "metadata": {},
          "output_type": "execute_result"
        }
      ],
      "source": [
        "df_val.shape"
      ]
    },
    {
      "cell_type": "code",
      "execution_count": 13,
      "metadata": {
        "id": "K2cfK0WTjylW"
      },
      "outputs": [],
      "source": [
        "y=df_train.averageRating\n",
        "vars=['startYear', 'runtimeMinutes',\"numVotes\",\"isAdult\",\"endYear\"]\n",
        "X=df_train[vars]\n",
        "X_pred=df_val[vars]\n",
        "\n",
        "from sklearn.preprocessing import OneHotEncoder\n",
        "\n",
        "\n",
        "encoder = OneHotEncoder()\n",
        "\n",
        "\n",
        "title = encoder.fit_transform(df_train[['titleType']])\n",
        "title_df = pd.DataFrame(title.toarray(), columns=encoder.get_feature_names_out(['titleType']))\n",
        "#split by genres\n",
        "genres = df_train.genres_x.str.get_dummies(sep=',')\n",
        "genres = genres.reindex(sorted(genres.columns), axis=1)\n",
        "\n",
        "\n",
        "title_df = pd.concat([title_df, genres], axis=1)\n",
        "\n",
        "X = pd.concat([X, title_df], axis=1)\n",
        "\n",
        "title = encoder.fit_transform(df_val[['titleType']])\n",
        "title_df = pd.DataFrame(title.toarray(), columns=encoder.get_feature_names_out(['titleType']))\n",
        "genres = df_val.genres_x.str.get_dummies(sep=',')\n",
        "#sort the genres columns alphabetically\n",
        "genres = genres.reindex(sorted(genres.columns), axis=1)\n",
        "# Split the genres_x column by commas and expand into separate columns\n",
        "\n",
        "# Iterate over the columns in genres and add missing columns to X_pred\n",
        "\"\"\" for col in X.columns:\n",
        "    if col not in genres.columns:\n",
        "        genres[col] = 0 \"\"\"\n",
        "\n",
        "# Reorder the columns to match the order in X\n",
        "#genres = genres[X_pred.columns]\n",
        "\n",
        "# Concatenate the new genres DataFrame with X_pred\n",
        "title_df = pd.concat([title_df, genres], axis=1)\n",
        "X_pred = pd.concat([X_pred, title_df], axis=1)\n",
        "\n",
        "\n",
        "del title_df, genres, title, encoder\n",
        "\n"
      ]
    },
    {
      "cell_type": "code",
      "execution_count": 19,
      "metadata": {},
      "outputs": [
        {
          "name": "stdout",
          "output_type": "stream",
          "text": [
            "Training a LinearForestRegressor with 75 estimators\n",
            "Finished training the LinearForestRegressor\n",
            "R^2 score on testing data: 0.3907\n"
          ]
        }
      ],
      "source": [
        "from sklearn.linear_model import LinearRegression\n",
        "from lineartree import LinearForestRegressor\n",
        "from sklearn.model_selection import train_test_split\n",
        "\n",
        "X_train, X_test, y_train, y_test = train_test_split(X, y, test_size=0.2, random_state=42)\n",
        "\n",
        "\n",
        "regr = LinearForestRegressor(base_estimator=LinearRegression(), max_features=0.5,n_estimators=75) # type: ignore\n",
        "print(\"Training a LinearForestRegressor with {} estimators\".format(regr.n_estimators))\n",
        "regr.fit(X_train, y_train)\n",
        "print(\"Finished training the LinearForestRegressor\")\n",
        "score = regr.score(X_test, y_test)\n",
        "print(\"R^2 score on testing data: {:.4f}\".format(score)) \n",
        "# 0.7 - 0.3819 | 0.6 - 0.3845 | 0.5 - 0.3867 | 0.4 - 0.3862\n",
        "# 50 - 0.3862 | 60 - 0.3875 | 70 - 0.3886 | 75 - 0.3888 | 80 - 0.3886\n",
        "\n"
      ]
    },
    {
      "cell_type": "code",
      "execution_count": 20,
      "metadata": {},
      "outputs": [
        {
          "name": "stdout",
          "output_type": "stream",
          "text": [
            "Training a LinearForestRegressor with 75 estimators and random state 42\n",
            "Training a LinearForestRegressor with 75 estimators and random state 12\n",
            "Training a LinearForestRegressor with 75 estimators and random state 21\n",
            "Training a LinearForestRegressor with 75 estimators and random state 36\n",
            "Finished training the LinearForestRegressor with random state 42\n",
            "Finished training the LinearForestRegressor with random state 36\n",
            "Finished training the LinearForestRegressor with random state 21\n",
            "R^2 score on testing data with random state 42: 0.3902\n",
            "R^2 score on testing data with random state 36: 0.3871\n",
            "R^2 score on testing data with random state 21: 0.3916\n",
            "Finished training the LinearForestRegressor with random state 12\n",
            "R^2 score on testing data with random state 12: 0.3889\n",
            "Average R^2 score across all random states: 0.3895\n",
            "0.38892812354330375\n",
            "0.3915679047569466\n",
            "0.3871112090964901\n",
            "0.3902252679299725\n"
          ]
        }
      ],
      "source": [
        "from concurrent.futures import ThreadPoolExecutor\n",
        "from sklearn.linear_model import LinearRegression\n",
        "from lineartree import LinearForestRegressor\n",
        "from sklearn.model_selection import train_test_split\n",
        "\n",
        "# Define the number of threads to use\n",
        "num_threads = 4\n",
        "\n",
        "# Define the random states to use\n",
        "random_states = [12, 21, 36, 42]\n",
        "\n",
        "# Define the training and testing data\n",
        "\n",
        "\n",
        "# Define a function to train the model and return the R^2 score\n",
        "def train_model(random_state):\n",
        "    # Create a LinearForestRegressor with the specified random state\n",
        "    X_train, X_test, y_train, y_test = train_test_split(X, y, test_size=0.2, random_state=random_state)\n",
        "    regr = LinearForestRegressor(base_estimator=LinearRegression(), max_features=0.5, n_estimators=75)\n",
        "    print(\"Training a LinearForestRegressor with {} estimators and random state {}\".format(regr.n_estimators, random_state))\n",
        "    regr.fit(X_train, y_train)\n",
        "    print(\"Finished training the LinearForestRegressor with random state {}\".format(random_state))\n",
        "    score = regr.score(X_test, y_test)\n",
        "    print(\"R^2 score on testing data with random state {}: {:.4f}\".format(random_state, score))\n",
        "    return score\n",
        "\n",
        "# Use a ThreadPoolExecutor to run the function on multiple threads\n",
        "with ThreadPoolExecutor(max_workers=num_threads) as executor:\n",
        "    # Submit the function to the executor for each random state\n",
        "    futures = [executor.submit(train_model, random_state) for random_state in random_states]\n",
        "\n",
        "    # Wait for all the futures to complete and get the results\n",
        "    results = [future.result() for future in futures]\n",
        "\n",
        "# Print the average R^2 score across all the random states\n",
        "print(\"Average R^2 score across all random states: {:.4f}\".format(sum(results) / len(results)))\n"
      ]
    },
    {
      "cell_type": "code",
      "execution_count": 17,
      "metadata": {},
      "outputs": [
        {
          "data": {
            "image/png": "[encoded data removed]",
            "text/plain": [
              "<Figure size 640x480 with 1 Axes>"
            ]
          },
          "metadata": {},
          "output_type": "display_data"
        }
      ],
      "source": [
        "import matplotlib.pyplot as plt\n",
        "\n",
        "# Assume regr is your trained LinearForestRegressor\n",
        "predictions = regr.predict(X_test)\n",
        "\n",
        "# Create a scatter plot of predicted vs actual values with transparency\n",
        "plt.scatter(y_test, predictions, alpha=0.1)\n",
        "plt.xlabel('Actual Values')\n",
        "plt.ylabel('Predicted Values')\n",
        "plt.title('Actual vs Predicted Values')\n",
        "\n",
        "# Plot a line for perfect correlation. This serves as a reference line.\n",
        "plt.plot(y, y, 'r')\n",
        "\n",
        "plt.show()"
      ]
    },
    {
      "cell_type": "code",
      "execution_count": null,
      "metadata": {},
      "outputs": [],
      "source": [
        "Yest = regr.predict(X_pred)"
      ]
    },
    {
      "cell_type": "code",
      "execution_count": null,
      "metadata": {},
      "outputs": [],
      "source": [
        "import pandas as pd\n",
        "import matplotlib.pyplot as plt\n",
        "\n",
        "# Assume regr is your trained LinearForestRegressor\n",
        "importances = regr.feature_importances_\n",
        "\n",
        "# Convert to pandas Series for easier plotting\n",
        "importances = pd.Series(importances, index=X.columns)\n",
        "\n",
        "# Sort importances\n",
        "importances = importances.sort_values()\n",
        "\n",
        "# Plot\n",
        "importances.plot(kind='barh')\n",
        "plt.title('Feature Importances')\n",
        "plt.show()\n"
      ]
    },
    {
      "cell_type": "code",
      "execution_count": null,
      "metadata": {},
      "outputs": [],
      "source": [
        "from lineartree import RandomForestRegressor\n",
        "regr = RandomForestRegressor( max_features=0.5,n_estimators=75) # type: ignore\n",
        "print(\"Training a random forest with n estimators\")\n",
        "regr.fit(X_train, y_train)\n",
        "print(\"Finished training the LinearForestRegressor\")\n",
        "score = regr.score(X_test, y_test)\n",
        "print(\"R^2 score on testing data: {:.4f}\".format(score))\n"
      ]
    },
    {
      "cell_type": "code",
      "execution_count": null,
      "metadata": {
        "id": "f3USDelPp-Df"
      },
      "outputs": [],
      "source": [
        "salida = pd.DataFrame(data={\"averageRating\": Yest})\n",
        "salida.index = df_val.index\n",
        "salida.to_csv(\"pred3.csv\", sep=',',index=True,  index_label='Id')"
      ]
    }
  ],
  "metadata": {
    "colab": {
      "authorship_tag": "ABX9TyOWrEHZs9zDfmtIg+jWBoNC",
      "include_colab_link": true,
      "provenance": []
    },
    "kernelspec": {
      "display_name": "Python 3",
      "name": "python3"
    },
    "language_info": {
      "codemirror_mode": {
        "name": "ipython",
        "version": 3
      },
      "file_extension": ".py",
      "mimetype": "text/x-python",
      "name": "python",
      "nbconvert_exporter": "python",
      "pygments_lexer": "ipython3",
      "version": "3.11.5"
    }
  },
  "nbformat": 4,
  "nbformat_minor": 0
}
