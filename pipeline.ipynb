{
 "cells": [
  {
   "cell_type": "code",
   "execution_count": 8,
   "metadata": {},
   "outputs": [],
   "source": [
    "import pandas as pd\n",
    "import matplotlib.pyplot as plt\n",
    "from sklearn.preprocessing import OneHotEncoder\n",
    "import json,re\n",
    "from sklearn.model_selection import train_test_split\n",
    "from concurrent.futures import ThreadPoolExecutor\n",
    "from preparando_datos import sum_into_column,split_and_sum,get_min_max\n",
    "import numpy as np\n",
    "import pandas as pd\n",
    "import matplotlib.pyplot as plt\n",
    "from sklearn.pipeline import Pipeline\n",
    "\n",
    "\n",
    "\n",
    "\n",
    "df_train=pd.read_csv('dataset/origen.csv')\n",
    "#take a 10% sample out of train\n",
    "\"\"\" df_val =  df_train.sample(frac=0.1, random_state=42)\n",
    "#drop the sample from train\n",
    "df_train.drop(df_val.index, inplace=True)\n",
    "\n",
    "X_val = df_val.drop([\"averageRating\",'Unnamed: 0'], axis=1) \"\"\"\n",
    "X = df_train.drop([\"averageRating\",'Unnamed: 0'], axis=1)\n",
    "y = df_train[\"averageRating\"]\n"
   ]
  },
  {
   "cell_type": "code",
   "execution_count": 2,
   "metadata": {},
   "outputs": [
    {
     "name": "stdout",
     "output_type": "stream",
     "text": [
      "<class 'pandas.core.frame.DataFrame'>\n",
      "Int64Index: 879787 entries, 0 to 977540\n",
      "Data columns (total 27 columns):\n",
      " #   Column                Non-Null Count   Dtype  \n",
      "---  ------                --------------   -----  \n",
      " 0   numVotes              879787 non-null  int64  \n",
      " 1   titleType             879787 non-null  object \n",
      " 2   isAdult               879787 non-null  float64\n",
      " 3   startYear             879787 non-null  int64  \n",
      " 4   endYear               879787 non-null  int64  \n",
      " 5   runtimeMinutes        647118 non-null  float64\n",
      " 6   genres_x              879785 non-null  object \n",
      " 7   directors             879787 non-null  object \n",
      " 8   writers               879787 non-null  object \n",
      " 9   seasonNumber          394234 non-null  float64\n",
      " 10  episodeNumber         394234 non-null  float64\n",
      " 11  ordering              333665 non-null  float64\n",
      " 12  language              333665 non-null  object \n",
      " 13  attributes            333665 non-null  object \n",
      " 14  isOriginalTitle       333665 non-null  float64\n",
      " 15  adult                 42627 non-null   object \n",
      " 16  budget                9756 non-null    float64\n",
      " 17  genres_y              42627 non-null   object \n",
      " 18  original_language     42615 non-null   object \n",
      " 19  popularity            42627 non-null   float64\n",
      " 20  production_companies  42627 non-null   object \n",
      " 21  production_countries  42627 non-null   object \n",
      " 22  revenue               8311 non-null    float64\n",
      " 23  runtime               42442 non-null   float64\n",
      " 24  status                42563 non-null   object \n",
      " 25  tagline               21457 non-null   object \n",
      " 26  video                 42627 non-null   object \n",
      "dtypes: float64(10), int64(3), object(14)\n",
      "memory usage: 187.9+ MB\n",
      "None\n"
     ]
    }
   ],
   "source": [
    "X['runtimeMinutes'].replace(0, np.nan, inplace=True)\n",
    "X['budget'].replace(0, np.nan, inplace=True)\n",
    "X['revenue'].replace(0, np.nan, inplace=True)\n",
    "\n",
    "print(X.info())\n"
   ]
  },
  {
   "cell_type": "code",
   "execution_count": null,
   "metadata": {},
   "outputs": [],
   "source": [
    "\n",
    "categorical_columns_with_nan = [\n",
    "    c for c in X.columns if X[c].dtype == 'O' and X[c].isnull().any()]\n",
    "categorical_columns_without_nan = [\n",
    "    c for c in X.columns if X[c].dtype == 'O' and X[c].notnull().all()]\n",
    "\n",
    "discrete_columns_with_nan = [\n",
    "    c for c in X.columns if X[c].dtype != 'O' and X[c].isnull().any()]\n",
    "discrete_columns_without_nan = [\n",
    "    c for c in X.columns if X[c].dtype != 'O' and X[c].notnull().all()]\n",
    "\n",
    "\n",
    "numerical_columns_with_nan = [\n",
    "    c for c in X.columns if X[c].dtype != 'O' and X[c].isnull().any()]\n",
    "numerical_columns_without_nan = [\n",
    "    c for c in X.columns if X[c].dtype != 'O' and X[c].notnull().all()]"
   ]
  },
  {
   "cell_type": "code",
   "execution_count": null,
   "metadata": {},
   "outputs": [],
   "source": [
    "from feature_engine.imputation import AddMissingIndicator, CategoricalImputer, MeanMedianImputer\n",
    "from sklearn.preprocessing import FunctionTransformer\n",
    "def interpolate_numericals(df, group, category, method='linear'):\n",
    "    # Fill in missing values using interpolation\n",
    "    df[category].replace(0, np.nan, inplace=True)\n",
    "    df[category].interpolate(method=method, inplace=True)\n",
    "    \n",
    "    # Store the fitted values in a dictionary\n",
    "    if group not in interpolate_numericals.fitted_values:\n",
    "        interpolate_numericals.fitted_values[group] = {}\n",
    "    interpolate_numericals.fitted_values[group][category] = df[category].copy()\n",
    "    \n",
    "    return df\n",
    "\n",
    "# Initialize the fitted values dictionary\n",
    "interpolate_numericals.fitted_values = {}\n",
    "\n",
    "pipeline_preprocessing = Pipeline([('numericalMissingIndicator',AddMissingIndicator(variables=numerical_columns_with_nan)),\n",
    "                                   ('runtimeTransform',FunctionTransformer(lambda x: interpolate_numericals(x,'titleType','runtimeMinutes'))),\n",
    "                                   ('budgetTransform',FunctionTransformer(lambda x: interpolate_numericals(x,'titleType','budget'))),\n",
    "                                   ('revenueTransform',FunctionTransformer(lambda x: interpolate_numericals(x,'titleType','revenue'))),\n",
    "                                   ])\n",
    "#run the pipeline\n",
    "pipeline_preprocessing.fit(X)\n",
    "#Run and print the pipeline\n",
    "print(pipeline_preprocessing.transform(X))\n",
    "\n",
    "pipeline = Pipeline([('preprocessing',pipeline_preprocessing)])"
   ]
  },
  {
   "cell_type": "code",
   "execution_count": 9,
   "metadata": {},
   "outputs": [
    {
     "data": {
      "text/html": [
       "<style>#sk-container-id-3 {color: black;}#sk-container-id-3 pre{padding: 0;}#sk-container-id-3 div.sk-toggleable {background-color: white;}#sk-container-id-3 label.sk-toggleable__label {cursor: pointer;display: block;width: 100%;margin-bottom: 0;padding: 0.3em;box-sizing: border-box;text-align: center;}#sk-container-id-3 label.sk-toggleable__label-arrow:before {content: \"▸\";float: left;margin-right: 0.25em;color: #696969;}#sk-container-id-3 label.sk-toggleable__label-arrow:hover:before {color: black;}#sk-container-id-3 div.sk-estimator:hover label.sk-toggleable__label-arrow:before {color: black;}#sk-container-id-3 div.sk-toggleable__content {max-height: 0;max-width: 0;overflow: hidden;text-align: left;background-color: #f0f8ff;}#sk-container-id-3 div.sk-toggleable__content pre {margin: 0.2em;color: black;border-radius: 0.25em;background-color: #f0f8ff;}#sk-container-id-3 input.sk-toggleable__control:checked~div.sk-toggleable__content {max-height: 200px;max-width: 100%;overflow: auto;}#sk-container-id-3 input.sk-toggleable__control:checked~label.sk-toggleable__label-arrow:before {content: \"▾\";}#sk-container-id-3 div.sk-estimator input.sk-toggleable__control:checked~label.sk-toggleable__label {background-color: #d4ebff;}#sk-container-id-3 div.sk-label input.sk-toggleable__control:checked~label.sk-toggleable__label {background-color: #d4ebff;}#sk-container-id-3 input.sk-hidden--visually {border: 0;clip: rect(1px 1px 1px 1px);clip: rect(1px, 1px, 1px, 1px);height: 1px;margin: -1px;overflow: hidden;padding: 0;position: absolute;width: 1px;}#sk-container-id-3 div.sk-estimator {font-family: monospace;background-color: #f0f8ff;border: 1px dotted black;border-radius: 0.25em;box-sizing: border-box;margin-bottom: 0.5em;}#sk-container-id-3 div.sk-estimator:hover {background-color: #d4ebff;}#sk-container-id-3 div.sk-parallel-item::after {content: \"\";width: 100%;border-bottom: 1px solid gray;flex-grow: 1;}#sk-container-id-3 div.sk-label:hover label.sk-toggleable__label {background-color: #d4ebff;}#sk-container-id-3 div.sk-serial::before {content: \"\";position: absolute;border-left: 1px solid gray;box-sizing: border-box;top: 0;bottom: 0;left: 50%;z-index: 0;}#sk-container-id-3 div.sk-serial {display: flex;flex-direction: column;align-items: center;background-color: white;padding-right: 0.2em;padding-left: 0.2em;position: relative;}#sk-container-id-3 div.sk-item {position: relative;z-index: 1;}#sk-container-id-3 div.sk-parallel {display: flex;align-items: stretch;justify-content: center;background-color: white;position: relative;}#sk-container-id-3 div.sk-item::before, #sk-container-id-3 div.sk-parallel-item::before {content: \"\";position: absolute;border-left: 1px solid gray;box-sizing: border-box;top: 0;bottom: 0;left: 50%;z-index: -1;}#sk-container-id-3 div.sk-parallel-item {display: flex;flex-direction: column;z-index: 1;position: relative;background-color: white;}#sk-container-id-3 div.sk-parallel-item:first-child::after {align-self: flex-end;width: 50%;}#sk-container-id-3 div.sk-parallel-item:last-child::after {align-self: flex-start;width: 50%;}#sk-container-id-3 div.sk-parallel-item:only-child::after {width: 0;}#sk-container-id-3 div.sk-dashed-wrapped {border: 1px dashed gray;margin: 0 0.4em 0.5em 0.4em;box-sizing: border-box;padding-bottom: 0.4em;background-color: white;}#sk-container-id-3 div.sk-label label {font-family: monospace;font-weight: bold;display: inline-block;line-height: 1.2em;}#sk-container-id-3 div.sk-label-container {text-align: center;}#sk-container-id-3 div.sk-container {/* jupyter's `normalize.less` sets `[hidden] { display: none; }` but bootstrap.min.css set `[hidden] { display: none !important; }` so we also need the `!important` here to be able to override the default hidden behavior on the sphinx rendered scikit-learn.org. See: https://github.com/scikit-learn/scikit-learn/issues/21755 */display: inline-block !important;position: relative;}#sk-container-id-3 div.sk-text-repr-fallback {display: none;}</style><div id=\"sk-container-id-3\" class=\"sk-top-container\"><div class=\"sk-text-repr-fallback\"><pre>Pipeline(steps=[(&#x27;set_exp_dict_genres&#x27;,\n",
       "                 GetExpDict(categories=[&#x27;genres_x&#x27;, &#x27;titleType&#x27;],\n",
       "                            group=[&#x27;directors&#x27;]))])</pre><b>In a Jupyter environment, please rerun this cell to show the HTML representation or trust the notebook. <br />On GitHub, the HTML representation is unable to render, please try loading this page with nbviewer.org.</b></div><div class=\"sk-container\" hidden><div class=\"sk-item sk-dashed-wrapped\"><div class=\"sk-label-container\"><div class=\"sk-label sk-toggleable\"><input class=\"sk-toggleable__control sk-hidden--visually\" id=\"sk-estimator-id-5\" type=\"checkbox\" ><label for=\"sk-estimator-id-5\" class=\"sk-toggleable__label sk-toggleable__label-arrow\">Pipeline</label><div class=\"sk-toggleable__content\"><pre>Pipeline(steps=[(&#x27;set_exp_dict_genres&#x27;,\n",
       "                 GetExpDict(categories=[&#x27;genres_x&#x27;, &#x27;titleType&#x27;],\n",
       "                            group=[&#x27;directors&#x27;]))])</pre></div></div></div><div class=\"sk-serial\"><div class=\"sk-item\"><div class=\"sk-estimator sk-toggleable\"><input class=\"sk-toggleable__control sk-hidden--visually\" id=\"sk-estimator-id-6\" type=\"checkbox\" ><label for=\"sk-estimator-id-6\" class=\"sk-toggleable__label sk-toggleable__label-arrow\">GetExpDict</label><div class=\"sk-toggleable__content\"><pre>GetExpDict(categories=[&#x27;genres_x&#x27;, &#x27;titleType&#x27;], group=[&#x27;directors&#x27;])</pre></div></div></div></div></div></div></div>"
      ],
      "text/plain": [
       "Pipeline(steps=[('set_exp_dict_genres',\n",
       "                 GetExpDict(categories=['genres_x', 'titleType'],\n",
       "                            group=['directors']))])"
      ]
     },
     "execution_count": 9,
     "metadata": {},
     "output_type": "execute_result"
    }
   ],
   "source": [
    "from sklearn.pipeline import Pipeline\n",
    "from sklearn.base import BaseEstimator, TransformerMixin\n",
    "from joblib import Parallel, delayed\n",
    "\n",
    "class GetExpDict(BaseEstimator, TransformerMixin):\n",
    "    def __init__(self, group:list, categories:list):\n",
    "        if type(group) == str:\n",
    "            group = [group]\n",
    "        if type(categories) == str:\n",
    "            categories = [categories]\n",
    "        self.group = group\n",
    "        self.categories = categories\n",
    "    \n",
    "    def fit(self, X:pd.DataFrame, y=None):\n",
    "        \n",
    "        \n",
    "        grupos = []\n",
    "        for group in self.group:\n",
    "            for category in self.categories:\n",
    "                categorias = X[category].unique().tolist()\n",
    "                categorias = [x.split(',') if type(x) == str else [] for x in categorias]\n",
    "                categorias = [item for sublist in categorias for item in sublist]\n",
    "                categorias = list(set(categorias))\n",
    "                grupo = X.groupby(group)[category].apply(list).to_dict()\n",
    "                if '0' in grupo:\n",
    "                    del grupo['0']\n",
    "                grupos.append((group,grupo,categorias))\n",
    "        self.diccionarios=[]\n",
    "        for group,grupo,categorias in grupos:\n",
    "            \n",
    "            dict_limpio = dict()\n",
    "            for sub_grupo in grupo.keys():\n",
    "                shows = grupo[sub_grupo]\n",
    "\n",
    "                for dir in sub_grupo.split(','):\n",
    "                    if dir in dict_limpio:\n",
    "                        dict_limpio[dir] += shows\n",
    "                    else:\n",
    "                        dict_limpio[dir] = shows\n",
    "            for sub_grupo in dict_limpio.keys():\n",
    "                #split all the genres into a list\n",
    "                dict_limpio[sub_grupo] = [x.split(',') if type(x) == str else [] for x in dict_limpio[sub_grupo]]\n",
    "                #flatten the list\n",
    "                dict_limpio[sub_grupo] = [item for sublist in dict_limpio[sub_grupo] for item in sublist]\n",
    "                #turn the list into a dict and count the number of times each genre appears\n",
    "                dict_limpio[sub_grupo] = dict((x,dict_limpio[sub_grupo].count(x)) for x in set(dict_limpio[sub_grupo]))\n",
    "                # if not all genres are present, add the missing ones and set the count to 0\n",
    "                for cat in categorias:\n",
    "                    if cat not in dict_limpio[sub_grupo]:\n",
    "                        dict_limpio[sub_grupo][cat] = 0\n",
    "            self.diccionarios.append((group,dict_limpio,categorias))\n",
    "        \n",
    "        return self\n",
    "    \n",
    "    def transform(self, X):\n",
    "\n",
    "        results = Parallel(n_jobs=-1)(delayed(sum_into_column)(x, diccionario, category) for group, diccionario, categorias in self.diccionarios for category in categorias for _, x in X.iterrows() if group == self.group)\n",
    "        for i, (group, diccionario, categorias) in enumerate(self.diccionarios):\n",
    "            if group == self.group:\n",
    "                for j, category in enumerate(categorias):\n",
    "                    X[f'{group}_exp_{category}'] = results[i*len(categorias)+j::len(categorias)]\n",
    "        return X\n",
    "\n",
    "\n",
    "pipeline_exp = Pipeline([\n",
    "    ('set_exp_dict_genres', GetExpDict(group=['directors'], categories=['genres_x'])),\n",
    "    # add other steps here\n",
    "])\n",
    "\n",
    "pipeline_exp.fit(X)\n"
   ]
  },
  {
   "cell_type": "code",
   "execution_count": 10,
   "metadata": {},
   "outputs": [],
   "source": [
    "rrrr= pipeline_exp.transform(X)"
   ]
  },
  {
   "cell_type": "code",
   "execution_count": null,
   "metadata": {},
   "outputs": [],
   "source": [
    "print(interpolate_numericals.fitted_values)"
   ]
  }
 ],
 "metadata": {
  "kernelspec": {
   "display_name": "Python 3",
   "language": "python",
   "name": "python3"
  },
  "language_info": {
   "codemirror_mode": {
    "name": "ipython",
    "version": 3
   },
   "file_extension": ".py",
   "mimetype": "text/x-python",
   "name": "python",
   "nbconvert_exporter": "python",
   "pygments_lexer": "ipython3",
   "version": "3.11.5"
  }
 },
 "nbformat": 4,
 "nbformat_minor": 2
}
