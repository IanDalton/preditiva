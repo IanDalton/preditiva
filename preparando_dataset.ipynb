{
  "cells": [
    {
      "cell_type": "markdown",
      "metadata": {
        "colab_type": "text",
        "id": "view-in-github"
      },
      "source": [
        "<a href=\"https://colab.research.google.com/github/LCaravaggio/AnalisisPredictivo/blob/master/Kaggle/2023Q2/Un_primer_LR.ipynb\" target=\"_parent\"><img src=\"https://colab.research.google.com/assets/colab-badge.svg\" alt=\"Open In Colab\"/></a>"
      ]
    },
    {
      "cell_type": "code",
      "execution_count": 13,
      "metadata": {
        "id": "uK-5cdUyNiQ3"
      },
      "outputs": [],
      "source": [
        "import pandas as pd\n",
        "import matplotlib.pyplot as plt\n",
        "from sklearn.preprocessing import OneHotEncoder\n",
        "import json\n",
        "from sklearn.model_selection import train_test_split\n",
        "from concurrent.futures import ThreadPoolExecutor\n",
        "\n",
        "\n",
        "import pandas as pd\n",
        "import matplotlib.pyplot as plt\n",
        "\n",
        "\n",
        "\n"
      ]
    },
    {
      "cell_type": "code",
      "execution_count": 14,
      "metadata": {
        "id": "DP11tcaGOEfg"
      },
      "outputs": [],
      "source": [
        "df_val=pd.read_csv('dataset/testear.csv')\n",
        "df_train=pd.read_csv('dataset/origen.csv')\n",
        "with open(\"directors_score.json\", \"r\") as read_file:\n",
        "    directors_score = json.load(read_file)"
      ]
    },
    {
      "cell_type": "code",
      "execution_count": 15,
      "metadata": {},
      "outputs": [],
      "source": [
        "def dir_score():\n",
        "    def director_score(directors):\n",
        "        score = 0\n",
        "        count = 0\n",
        "        for director in directors:\n",
        "            if director in directors_score:\n",
        "                score += directors_score[director]\n",
        "                count += 1\n",
        "        return score / count if count > 0 else 0\n",
        "\n",
        "    for df in [df_train, df_val]:\n",
        "        df['director_score'] = 0\n",
        "        df['director_score'] = df['directors'].apply(lambda x: director_score(x.split(',')))\n",
        "        df['director_score'] = df['director_score'].fillna(0)\n",
        "        df['director_score'] = df['director_score'].astype(float)\n",
        "        \n"
      ]
    },
    {
      "cell_type": "code",
      "execution_count": 16,
      "metadata": {},
      "outputs": [],
      "source": [
        "def give_authors_experience(writer):\n",
        "    authors = []\n",
        "    if type(writer) != str:\n",
        "        return authors\n",
        "    \n",
        "    for i,author in enumerate(writer.split(',')):\n",
        "        authors.append(writer_counts[author])\n",
        "    \n",
        "    return sum(authors)\n",
        "\n",
        "for df in [df_train, df_val]:\n",
        "\n",
        "    writers = df['writers']\n",
        "    writers = writers.str.split(',', expand=True)\n",
        "    writer_counts = writers.stack().value_counts()\n",
        "    writer_counts['0'] = 0\n",
        "\n",
        "    df['writers_exp'] = df['writers'].apply(give_authors_experience)\n",
        "\n",
        "\n",
        "del writers, writer_counts,df"
      ]
    },
    {
      "cell_type": "code",
      "execution_count": 17,
      "metadata": {},
      "outputs": [],
      "source": [
        "def give_directors_experience(director):\n",
        "    directors = []\n",
        "    if type(director) != str:\n",
        "        return directors\n",
        "    \n",
        "    for i,author in enumerate(director.split(',')):\n",
        "        directors.append(directors_counts[author])\n",
        "    \n",
        "    return sum(directors)\n",
        "\n",
        "for df in [df_train, df_val]:\n",
        "        \n",
        "    directors = df['directors']\n",
        "    directors = directors.str.split(',', expand=True)\n",
        "    directors_counts = directors.stack().value_counts()\n",
        "    directors_counts['0'] = 0\n",
        "\n",
        "\n",
        "    #apply the function to the writers column, send also the ratings column to the function\n",
        "    df['directors_exp'] = df['directors'].apply(give_directors_experience)\n",
        "\n",
        "\n",
        "\n",
        "del directors, directors_counts, df"
      ]
    },
    {
      "cell_type": "code",
      "execution_count": 18,
      "metadata": {},
      "outputs": [],
      "source": [
        "#set language to 0 if it is nan\n",
        "\n",
        "df_train['language'] = df_train['language'].fillna(0)\n",
        "df_val['language'] = df_val['language'].fillna(0)"
      ]
    },
    {
      "cell_type": "code",
      "execution_count": 19,
      "metadata": {},
      "outputs": [],
      "source": [
        "y=df_train.averageRating\n",
        "vars=['startYear', 'runtimeMinutes',\"numVotes\",\"writers_exp\",\n",
        "      \"directors_exp\",\"endYear\",\"isAdult\",\"seasonNumber\",\n",
        "      \"episodeNumber\",\"ordering\",\"isOriginalTitle\",\"runtime\",\n",
        "      \"revenue\",\"popularity\",\"budget\"]\n",
        "X=df_train[vars]\n",
        "X = pd.concat([X, pd.get_dummies(df_train['language'], prefix='language')], axis=1)\n",
        "X_pred=df_val[vars]\n",
        "X_pred = pd.concat([X_pred, pd.get_dummies(df_val['language'], prefix='language')], axis=1)\n"
      ]
    },
    {
      "cell_type": "code",
      "execution_count": 20,
      "metadata": {
        "id": "K2cfK0WTjylW"
      },
      "outputs": [],
      "source": [
        "for i,df in enumerate([df_train, df_val]):\n",
        "    encoder = OneHotEncoder()\n",
        "    title = encoder.fit_transform(df[['titleType']])\n",
        "    title_df = pd.DataFrame(title.toarray(), columns=encoder.get_feature_names_out(['titleType']))\n",
        "    #split by genres\n",
        "    genres = df.genres_x.str.get_dummies(sep=',')\n",
        "    genres = genres.reindex(sorted(genres.columns), axis=1)\n",
        "\n",
        "\n",
        "    title_df = pd.concat([title_df, genres], axis=1)\n",
        "    if not i:\n",
        "        X = pd.concat([X, title_df], axis=1)\n",
        "    else:\n",
        "        X_pred = pd.concat([X_pred, title_df], axis=1)\n",
        "\n",
        "\n",
        "for col in X.columns:\n",
        "    if col not in X_pred.columns:\n",
        "        X_pred[col] = 0\n",
        "\n",
        "X_pred = X_pred.sort_index(axis=1)\n",
        "X = X.sort_index(axis=1)\n",
        "del title_df, genres, title, encoder, df\n",
        "\n",
        "\n",
        "\n"
      ]
    },
    {
      "cell_type": "code",
      "execution_count": 21,
      "metadata": {},
      "outputs": [
        {
          "name": "stdout",
          "output_type": "stream",
          "text": [
            "Index(['0', 'Action', 'Adult', 'Adventure', 'Animation', 'Biography', 'Comedy',\n",
            "       'Crime', 'Documentary', 'Drama', 'Family', 'Fantasy', 'Film-Noir',\n",
            "       'Game-Show', 'History', 'Horror', 'Music', 'Musical', 'Mystery', 'News',\n",
            "       'Reality-TV', 'Romance', 'Sci-Fi', 'Short', 'Sport', 'Talk-Show',\n",
            "       'Thriller', 'War', 'Western', 'budget', 'directors_exp', 'endYear',\n",
            "       'episodeNumber', 'isAdult', 'isOriginalTitle', 'language_en',\n",
            "       'language_es', 'language_fr', 'language_haw', 'language_hi',\n",
            "       'language_myv', 'language_yi', 'numVotes', 'ordering', 'popularity',\n",
            "       'revenue', 'runtime', 'runtimeMinutes', 'seasonNumber', 'startYear',\n",
            "       'titleType_movie', 'titleType_short', 'titleType_tvEpisode',\n",
            "       'titleType_tvMiniSeries', 'titleType_tvMovie', 'titleType_tvSeries',\n",
            "       'titleType_tvShort', 'titleType_tvSpecial', 'titleType_video',\n",
            "       'titleType_videoGame', 'writers_exp'],\n",
            "      dtype='object')\n"
          ]
        }
      ],
      "source": [
        "#drop X column named language_0\n",
        "X = X.drop(columns=['language_0'])\n",
        "X_pred = X_pred.drop(columns=['language_0'])\n",
        "print(X.columns)"
      ]
    },
    {
      "cell_type": "code",
      "execution_count": 22,
      "metadata": {},
      "outputs": [],
      "source": [
        "X.to_csv('dataset/train.csv', index=False)\n",
        "X_pred.to_csv('dataset/val.csv', index=False)"
      ]
    }
  ],
  "metadata": {
    "colab": {
      "authorship_tag": "ABX9TyOWrEHZs9zDfmtIg+jWBoNC",
      "include_colab_link": true,
      "provenance": []
    },
    "kernelspec": {
      "display_name": "Python 3",
      "name": "python3"
    },
    "language_info": {
      "codemirror_mode": {
        "name": "ipython",
        "version": 3
      },
      "file_extension": ".py",
      "mimetype": "text/x-python",
      "name": "python",
      "nbconvert_exporter": "python",
      "pygments_lexer": "ipython3",
      "version": "3.11.5"
    }
  },
  "nbformat": 4,
  "nbformat_minor": 0
}
